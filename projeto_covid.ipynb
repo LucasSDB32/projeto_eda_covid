{
 "cells": [
  {
   "cell_type": "code",
   "execution_count": null,
   "metadata": {},
   "outputs": [],
   "source": [
    "import pandas as pd\n",
    "import numpy as np\n",
    "from datetime import datetime\n",
    "import plotly.express as px\n",
    "import plotly.graph_objects as go"
   ]
  },
  {
   "cell_type": "code",
   "execution_count": null,
   "metadata": {},
   "outputs": [],
   "source": [
    "# importação de dados\n",
    "\n",
    "url = 'https://github.com/neylsoncrepalde/projeto_eda_covid/blob/master/covid_19_data.csv?raw=true'"
   ]
  },
  {
   "cell_type": "code",
   "execution_count": null,
   "metadata": {},
   "outputs": [],
   "source": [
    "df = pd.read_csv(url, parse_dates=['ObservationDate', 'Last Update'])\n",
    "df"
   ]
  },
  {
   "cell_type": "code",
   "execution_count": null,
   "metadata": {},
   "outputs": [],
   "source": [
    "df.dtypes"
   ]
  },
  {
   "cell_type": "code",
   "execution_count": null,
   "metadata": {},
   "outputs": [],
   "source": [
    "# Formatando os Nomes das Colunas\n",
    "\n",
    "import re\n",
    "\n",
    "def corrige_colunas(col_name):\n",
    "     return re.sub(r\"[/| ]\", \"\", col_name).lower()\n",
    "\n",
    "# Teste da Função\n",
    "\n",
    "corrige_colunas(\"AdgE/P ou\")"
   ]
  },
  {
   "cell_type": "code",
   "execution_count": null,
   "metadata": {},
   "outputs": [],
   "source": [
    "# Corrigindo todas as colunas do df\n",
    "\n",
    "df.columns =  [corrige_colunas(col) for col in df. columns]\n",
    "\n",
    "df"
   ]
  },
  {
   "cell_type": "code",
   "execution_count": null,
   "metadata": {},
   "outputs": [],
   "source": [
    "#Brasil - selecionando dados do Brasil\n",
    "\n",
    "df.loc[df.countryregion == 'Brazil']"
   ]
  },
  {
   "cell_type": "code",
   "execution_count": null,
   "metadata": {},
   "outputs": [],
   "source": [
    "# Pelo menos um caso confirmado\n",
    "\n",
    "brasil = df.loc[\n",
    "\t(df.countryregion == 'Brazil') &\n",
    "\t(df.confirmed > 0)\n",
    "]\t\n",
    "\n",
    "brasil"
   ]
  },
  {
   "cell_type": "code",
   "execution_count": null,
   "metadata": {},
   "outputs": [],
   "source": [
    "# Gráfico da evolução de casos confirmados\n",
    "\n",
    "px.line(brasil,'observationdate', 'confirmed', title='Casos confirmados no Brasil')"
   ]
  },
  {
   "cell_type": "code",
   "execution_count": null,
   "metadata": {},
   "outputs": [],
   "source": [
    "# Novos casos por dia - Programação Funcional\n",
    "\n",
    "brasil ['novoscasos'] = list(map(\n",
    "\n",
    "\tlambda x: 0 if (x==0) else brasil['confirmed'].iloc[x] - brasil['confirmed'].iloc[x-1], np.arange(brasil.shape[0])\n",
    "\n",
    "))\n",
    "\n",
    "px.line(brasil, x='observationdate', y='novoscasos', title='Novos casos por dia')"
   ]
  },
  {
   "cell_type": "code",
   "execution_count": null,
   "metadata": {},
   "outputs": [],
   "source": [
    "# Mortes \n",
    "\n",
    "fig = go.Figure()\n",
    "\n",
    "fig.add_trace(\n",
    "    go.Scatter(x=brasil.observationdate,y=brasil.deaths,name='Mortes',mode='lines+markers',line={'color':'red'})\n",
    ")\n",
    "\n",
    "# Layout\n",
    "\n",
    "fig.update_layout(title='Mortes por COVID-19 no Brasil')\n",
    "\n",
    "fig.show()"
   ]
  },
  {
   "cell_type": "code",
   "execution_count": null,
   "metadata": {},
   "outputs": [],
   "source": [
    "# Taxa de Crescimento\n",
    "\n",
    "\n",
    "def taxa_crescimento(data, variable, data_inicio=None, data_fim=None):\n",
    "\t\n",
    "\t# Se data início for nome, define como a primeira data disponível\n",
    "\n",
    "\tif data_inicio == None:\n",
    "\t\tdata_inicio = data.observationdate.loc[data[variable] > 0].min()\n",
    "\n",
    "\telse:\n",
    "\t\tdata_inicio = pd.to_datetime(data_inicio)\n",
    "\n",
    "\tif data_fim == None:\n",
    "\t\tdata_fim = data.observationdate.iloc[-1]\n",
    "\t\n",
    "\telse:\n",
    "\t\tdata_fim = pd.to_datetime(data_fim)\n",
    "\n",
    "\t# Define os valores do presente e passado\n",
    "\t\n",
    "\tpassado = data.loc[data.observationdate == data_inicio, variable].values[0]\n",
    "\t\n",
    "\tpresente = data.loc[data.observationdate == data_fim, variable].values[0]\n",
    "\n",
    "\t# Define o número de pontos no tempo que vamos avaliar\n",
    "\n",
    "\tn = (data_fim - data_inicio).days\n",
    "\n",
    "\t# Calculo da taxa\n",
    "\n",
    "\ttaxa = (presente/passado)**(1/n) - 1\n",
    "\n",
    "\treturn taxa*100\t\n",
    "\n",
    "# Taxa de Crescimento Médio do COVID no Brasil em todo o período\n",
    "\n",
    "taxa_crescimento(brasil, 'confirmed')"
   ]
  },
  {
   "cell_type": "code",
   "execution_count": null,
   "metadata": {},
   "outputs": [],
   "source": [
    "def taxa_crescimento_diaria(data, variable, data_inicio=None):\n",
    "  \n",
    "  if data_inicio == None:\n",
    "    data_inicio = data.observationdate.loc[data[variable]> 0 ].min()\n",
    "\n",
    "  else:\n",
    "    data_inicio = pd.to_datetime(data_inicio) \n",
    "\n",
    "  data_fim = data.observationdate.max()\n",
    "\n",
    "  n = (data_fim - data_inicio).days\n",
    "\n",
    "  taxas = []\n",
    "  for i in range(1, n+1):\n",
    "      taxas.append((data[variable].iloc[i] - data[variable].iloc[i-1]) / data[variable].iloc[i-1] * 100)\n",
    "\n",
    "  return np.array(taxas)"
   ]
  },
  {
   "cell_type": "code",
   "execution_count": null,
   "metadata": {},
   "outputs": [],
   "source": [
    "tx_dia = taxa_crescimento_diaria(brasil, 'confirmed')\n",
    "\n",
    "tx_dia"
   ]
  },
  {
   "cell_type": "code",
   "execution_count": null,
   "metadata": {},
   "outputs": [],
   "source": [
    "primeiro_dia = brasil.observationdate.loc[brasil.confirmed > 0].min()\n",
    "\n",
    "px.line(x=pd.date_range(primeiro_dia, brasil.observationdate.max())[1:], y=tx_dia, title='Taxa de crescimento de casos confirmados no Brasil')"
   ]
  },
  {
   "cell_type": "code",
   "execution_count": null,
   "metadata": {},
   "outputs": [],
   "source": [
    "# Predições\n",
    "\n",
    "from statsmodels.tsa.seasonal import seasonal_decompose\n",
    "\n",
    "import matplotlib.pyplot as plt\n",
    "\n",
    "confirmados = brasil.confirmed\n",
    "confirmados.index = brasil.observationdate\n",
    "\n",
    "confirmados\n",
    "\n",
    "# Decompondo\n",
    "\n",
    "res = seasonal_decompose(confirmados)\n",
    "\n",
    "# Plotando\n",
    "\n",
    "fig, (ax1, ax2, ax3, ax4) = plt.subplots(4, 1, figsize=(10,8))\n",
    "\n",
    "ax1.plot(res.observed)\n",
    "ax2.plot(res.trend)\n",
    "ax3.plot(res.seasonal)\n",
    "ax4.plot(confirmados.index, res.resid)\n",
    "ax4.axhline(0, linestyle='dashed', c='black')\n",
    "plt.show()"
   ]
  },
  {
   "cell_type": "code",
   "execution_count": null,
   "metadata": {},
   "outputs": [],
   "source": [
    "# Modelagem Modelo ARIMA\n",
    "\n",
    "!pip install pmdarima"
   ]
  },
  {
   "cell_type": "code",
   "execution_count": null,
   "metadata": {},
   "outputs": [],
   "source": [
    "from pmdarima.arima import auto_arima\n",
    "\n",
    "from pmdarima.arima import auto_arima\n",
    "\n",
    "modelo = auto_arima(confirmados)\n",
    "\n",
    "# Gráficos\n",
    "\n",
    "fig = go.Figure(go.Scatter(\n",
    "\tx=confirmados.index, y=confirmados, name='Observados'\n",
    "\n",
    "))\n",
    "\n",
    "fig.add_trace(go.Scatter(\n",
    "\tx=confirmados.index, y=modelo.predict_in_sample(), name='Preditos'\n",
    "\n",
    "\n",
    "))\n",
    "\n",
    "fig.add_trace(go.Scatter(\n",
    "\tx=pd.date_range('2020-05-20', '2020-06-20'), y=modelo.predict(31), name='Forecast'\n",
    "\n",
    "))\n",
    "\n",
    "fig.update_layout(title='Previsão de casos confirmados no Brasil para os próximos 30 dias')\n",
    "\n",
    "fig.show()"
   ]
  },
  {
   "cell_type": "code",
   "execution_count": null,
   "metadata": {},
   "outputs": [],
   "source": [
    "# Modelagem Modelo de Crescimento\n",
    "\n",
    "!conda install -c conda-forge fbprophet -y\n",
    "\n",
    "from fbprophet import Prophet\n",
    "\n",
    "# Processamentos\n",
    "\n",
    "train =  confirmados.reset_index() [:-5]\n",
    "test =  confirmados.reset_index() [-5:]\n",
    "\n",
    "# Renomeando Colunas\n",
    "\n",
    "train.rename(columns={'observationdate':'ds', 'confirmed': 'y'}, inplace=True)\n",
    "\n",
    "test.rename(columns={'observationdate':'ds', 'confirmed': 'y'}, inplace=True)\n",
    "\n",
    "\n",
    "# Definir Modelo de Crescimento\n",
    "\n",
    "profeta = Prophet(growth='logistic',changepoints=['2020-03-21', '2020-03-30', '2020-04-25', '2020-05-03', '2020-05-10'])\n",
    "\n",
    "\n",
    "pop= 211463256\n",
    "train['cap'] = pop\n",
    "\n",
    "# Treinar Modelo\n",
    "profeta.fit(train)\n",
    "\n",
    "# Previsões para o Futuro\n",
    "\n",
    "future_dates = profeta_make_future_dataframe(periods=200)\n",
    "\n",
    "future_dates['cap'] = pop\n",
    "\n",
    "forecast = profeta.predict (future_dates)\n",
    "\n",
    "\n",
    "fig = go.Figure()\n",
    "\n",
    "fig.add_trace(go.Scatter(x=forecast.ds, y=forecast.yhat, name='Predição'))\n",
    "\n",
    "\n",
    "fig.add_trace(go.Scatter(x=train.ds, y=train.y, name='Observados - Treino'))\n",
    "\n",
    "fig.update_layout(title='Predições de casos confirmados no Brasil')\n",
    "\n",
    "fig.show()"
   ]
  }
 ],
 "metadata": {
  "language_info": {
   "name": "python"
  },
  "orig_nbformat": 4
 },
 "nbformat": 4,
 "nbformat_minor": 2
}
